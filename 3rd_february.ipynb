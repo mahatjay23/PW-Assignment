{
 "cells": [
  {
   "cell_type": "markdown",
   "id": "cba60487-a6ec-4d77-883b-15b73596abfd",
   "metadata": {
    "tags": []
   },
   "source": [
    "Q1. Which keyword is used to create a function? Create a function to return a list of odd numbers in the range of 1 to 25."
   ]
  },
  {
   "cell_type": "markdown",
   "id": "c9ce5d6f-5c76-497d-a566-c8944c10c414",
   "metadata": {},
   "source": [
    "Ans: The keyword used to create a function in Python is def"
   ]
  },
  {
   "cell_type": "code",
   "execution_count": 2,
   "id": "753c2800-29b9-4d55-b1fc-042bdf18e2d0",
   "metadata": {},
   "outputs": [
    {
     "name": "stdout",
     "output_type": "stream",
     "text": [
      "[1, 3, 5, 7, 9, 11, 13, 15, 17, 19, 21, 23, 25]\n"
     ]
    }
   ],
   "source": [
    "# Create a function to return a list of odd numbers in the range of 1 to 25\n",
    "\n",
    "def get_odd_numbers():\n",
    "    return [num for num in range(1, 26) if num % 2 != 0]\n",
    "odd_numbers = get_odd_numbers()\n",
    "print(odd_numbers)"
   ]
  },
  {
   "cell_type": "markdown",
   "id": "e00baa98-c920-4d41-a512-46c9a926079d",
   "metadata": {},
   "source": [
    "Q2. Why *args and **kwargs is used in some functions? Create a function each for *args and **kwargs\n",
    "to demonstrate their use."
   ]
  },
  {
   "cell_type": "markdown",
   "id": "1a7e06cc-b798-41f3-9978-a9cfb258130c",
   "metadata": {},
   "source": [
    "*args: Allows a function to accept any number of positional arguments. This is useful when you want to create a function that can handle a variable number of inputs without needing to define them all explicitly.\n",
    "\n",
    "**kwargs: Allows a function to accept any number of keyword arguments. This is useful when you want to pass a variable number of named arguments (as key-value pairs) to a function."
   ]
  },
  {
   "cell_type": "code",
   "execution_count": 16,
   "id": "97428349-431f-4dbf-b6d1-524a156da545",
   "metadata": {},
   "outputs": [
    {
     "name": "stdout",
     "output_type": "stream",
     "text": [
      "14\n"
     ]
    }
   ],
   "source": [
    "#Create a function each for *args and **kwargs to demonstrate their use.\n",
    "def sum_all(*args):\n",
    "    return sum(args)\n",
    "result=sum_all(2,3,4,5)\n",
    "print(result)\n",
    "\n",
    "#*args: Captures all the positional arguments passed to the function into a tuple.\n",
    "#sum(args): Sums all the values in the args tuple."
   ]
  },
  {
   "cell_type": "code",
   "execution_count": 20,
   "id": "c0fac1a9-3fff-40ed-8ac0-2f9355ff3e7c",
   "metadata": {},
   "outputs": [
    {
     "name": "stdout",
     "output_type": "stream",
     "text": [
      "name: Arindam Roy\n",
      "age: 21\n",
      "city: Kolkata\n"
     ]
    }
   ],
   "source": [
    "def print_details(**kwargs):\n",
    "    for key, value in kwargs.items():\n",
    "        print(f\"{key}: {value}\")\n",
    "print_details(name=\"Jayanta Mahata\", age=23, city=\"Bankura\")\n",
    "\n",
    "#**kwargs: Captures all the keyword arguments passed to the function into a dictionary.\n",
    "#for key, value in kwargs.items(): Iterates over the key-value pairs in the dictionary and prints them."
   ]
  },
  {
   "cell_type": "markdown",
   "id": "2590d7a8-378b-4f47-8e1c-86ed364e3c0a",
   "metadata": {},
   "source": [
    "Q3. What is an iterator in python? Name the method used to initialise the iterator object and the method\n",
    "used for iteration. Use these methods to print the first five elements of the given list [2, 4, 6, 8, 10, 12, 14,\n",
    "16, 18, 20]."
   ]
  },
  {
   "cell_type": "markdown",
   "id": "320d2614-aed2-40b2-aaeb-1c570d1ec8d2",
   "metadata": {},
   "source": [
    "Q3. What is an Iterator in Python?\n",
    "An iterator in Python is an object that allows you to traverse through a collection (like a list or tuple) one element at a time. It implements two methods:\n",
    "\n",
    "__iter__(): This method initializes the iterator object. It returns the iterator object itself.\n",
    "__next__(): This method is used to fetch the next element from the iterator. \n",
    "\n",
    "When there are no more elements to return, it raises a StopIteration exception."
   ]
  },
  {
   "cell_type": "code",
   "execution_count": 21,
   "id": "2c3508d3-4192-415e-a41c-eeab2e864729",
   "metadata": {},
   "outputs": [
    {
     "name": "stdout",
     "output_type": "stream",
     "text": [
      "2\n",
      "4\n",
      "6\n",
      "8\n",
      "10\n"
     ]
    }
   ],
   "source": [
    "numbers = [2, 4, 6, 8, 10, 12, 14, 16, 18, 20]\n",
    "iterator = iter(numbers)\n",
    "for _ in range(5):\n",
    "    print(next(iterator))"
   ]
  },
  {
   "cell_type": "markdown",
   "id": "ca4a788d-469d-4568-a7d3-ee7fa637d30f",
   "metadata": {},
   "source": [
    "Q4. What is a generator function in python? Why yield keyword is used? Give an example of a generator\n",
    "function."
   ]
  },
  {
   "cell_type": "markdown",
   "id": "a454aec8-7ea1-4211-82b3-ee52d6c7fd53",
   "metadata": {},
   "source": [
    "Q4. What is a Generator Function in Python?\n",
    "\n",
    "A generator function in Python is a special type of function that returns an iterator called a generator. Unlike regular functions that return a single value using the return statement, a generator function yields multiple values, one at a time, using the yield keyword. The state of the function is preserved between calls, allowing it to resume where it left off each time it is called.\n",
    "\n",
    "Why yield Keyword is Used?\n",
    "\n",
    "yield is used in generator functions to produce a value and pause the function's execution. When the function is called again, it resumes right after the last yield statement. This makes yield useful for creating iterators that can generate a sequence of values over time, rather than all at once.\n",
    "\n",
    "Memory Efficiency: Generators do not store the entire sequence in memory; they generate each value on the fly, making them more memory-efficient for large datasets."
   ]
  },
  {
   "cell_type": "code",
   "execution_count": 24,
   "id": "7f1ebc87-d5d3-4919-82f9-8f9bf7e8584a",
   "metadata": {},
   "outputs": [
    {
     "name": "stdout",
     "output_type": "stream",
     "text": [
      "2\n",
      "4\n",
      "6\n",
      "8\n"
     ]
    }
   ],
   "source": [
    "def even_numbers():\n",
    "    for i in range(2, 10, 2):\n",
    "        yield i\n",
    "for num in even_numbers():\n",
    "    print(num)"
   ]
  },
  {
   "cell_type": "markdown",
   "id": "c57bb601-a6b9-447c-b9e6-9e94a1020188",
   "metadata": {},
   "source": [
    "Q5. Create a generator function for prime numbers less than 1000. Use the next() method to print the first 20 prime numbers."
   ]
  },
  {
   "cell_type": "code",
   "execution_count": 25,
   "id": "26945a36-1ebc-4b94-a816-5448c8979242",
   "metadata": {},
   "outputs": [
    {
     "name": "stdout",
     "output_type": "stream",
     "text": [
      "2\n",
      "3\n",
      "5\n",
      "7\n",
      "11\n",
      "13\n",
      "17\n",
      "19\n",
      "23\n",
      "29\n",
      "31\n",
      "37\n",
      "41\n",
      "43\n",
      "47\n",
      "53\n",
      "59\n",
      "61\n",
      "67\n",
      "71\n"
     ]
    }
   ],
   "source": [
    "def prime_numbers():\n",
    "    for num in range(2, 1000):\n",
    "        is_prime = True\n",
    "        for i in range(2, int(num ** 0.5) + 1):\n",
    "            if num % i == 0:\n",
    "                is_prime = False\n",
    "                break\n",
    "        if is_prime:\n",
    "            yield num\n",
    "prime_gen = prime_numbers()\n",
    "for _ in range(20):\n",
    "    print(next(prime_gen))"
   ]
  },
  {
   "cell_type": "markdown",
   "id": "c2c775aa-b36b-4d34-8a9b-f352d9879230",
   "metadata": {},
   "source": [
    "Q6. Write a python program to print the first 10 Fibonacci numbers using a while loop."
   ]
  },
  {
   "cell_type": "code",
   "execution_count": 31,
   "id": "26cfd940-4bcf-4e36-b17b-0e96ca195753",
   "metadata": {},
   "outputs": [
    {
     "name": "stdin",
     "output_type": "stream",
     "text": [
      "Enter Number : 10\n"
     ]
    },
    {
     "name": "stdout",
     "output_type": "stream",
     "text": [
      "0\n",
      "1\n",
      "1\n",
      "2\n",
      "3\n",
      "5\n",
      "8\n",
      "13\n",
      "21\n",
      "34\n"
     ]
    }
   ],
   "source": [
    "num=int(input(\"Enter Number :\"))\n",
    "a,b=0,1\n",
    "count=0\n",
    "while num > count :\n",
    "        print(a)\n",
    "        c=a+b\n",
    "        a=b\n",
    "        b=c\n",
    "        count=count+1"
   ]
  },
  {
   "cell_type": "markdown",
   "id": "e4b01353-18e6-4fbf-9f4a-ab112c344e00",
   "metadata": {},
   "source": [
    "Q7. Write a List Comprehension to iterate through the given string: ‘pwskills’.\n",
    "Expected output: ['p', 'w', 's', 'k', 'i', 'l', 'l', 's']"
   ]
  },
  {
   "cell_type": "code",
   "execution_count": 32,
   "id": "e2951b58-a476-4112-9e7c-603d2e5a1007",
   "metadata": {},
   "outputs": [
    {
     "name": "stdout",
     "output_type": "stream",
     "text": [
      "['p', 'w', 's', 'k', 'i', 'l', 'l', 's']\n"
     ]
    }
   ],
   "source": [
    "text = 'pwskills'\n",
    "result = [i for i in text if i in 'pwskills']\n",
    "print(result)"
   ]
  },
  {
   "cell_type": "markdown",
   "id": "e3dfcf43-5af0-48e5-b816-63bb7fede2da",
   "metadata": {},
   "source": [
    "Q8. Write a python program to check whether a given number is Palindrome or not using a while loop."
   ]
  },
  {
   "cell_type": "code",
   "execution_count": 37,
   "id": "ab47215f-669a-48a9-9a65-ce9b4969632f",
   "metadata": {},
   "outputs": [
    {
     "name": "stdin",
     "output_type": "stream",
     "text": [
      "Enter Number : 121\n"
     ]
    },
    {
     "name": "stdout",
     "output_type": "stream",
     "text": [
      "Number is Pallindrome\n"
     ]
    }
   ],
   "source": [
    "num=int(input(\"Enter Number :\"))\n",
    "dig=num\n",
    "sum=0\n",
    "\n",
    "while num > 0 :\n",
    "    rem=num % 10\n",
    "    sum=sum*10+rem\n",
    "    num=num//10\n",
    "if (dig==sum):\n",
    "    print(\"Number is Pallindrome\")\n",
    "else:\n",
    "    print(\"Number is not Pallindrome\")\n",
    "    "
   ]
  },
  {
   "cell_type": "markdown",
   "id": "ef4a6187-6633-4df0-b661-b18c00ba81d0",
   "metadata": {},
   "source": [
    "Q9. Write a code to print odd numbers from 1 to 100 using list comprehension."
   ]
  },
  {
   "cell_type": "code",
   "execution_count": 43,
   "id": "a2dee0ea-a143-49ba-9e60-7046408cc984",
   "metadata": {},
   "outputs": [
    {
     "data": {
      "text/plain": [
       "[1,\n",
       " 3,\n",
       " 5,\n",
       " 7,\n",
       " 9,\n",
       " 11,\n",
       " 13,\n",
       " 15,\n",
       " 17,\n",
       " 19,\n",
       " 21,\n",
       " 23,\n",
       " 25,\n",
       " 27,\n",
       " 29,\n",
       " 31,\n",
       " 33,\n",
       " 35,\n",
       " 37,\n",
       " 39,\n",
       " 41,\n",
       " 43,\n",
       " 45,\n",
       " 47,\n",
       " 49,\n",
       " 51,\n",
       " 53,\n",
       " 55,\n",
       " 57,\n",
       " 59,\n",
       " 61,\n",
       " 63,\n",
       " 65,\n",
       " 67,\n",
       " 69,\n",
       " 71,\n",
       " 73,\n",
       " 75,\n",
       " 77,\n",
       " 79,\n",
       " 81,\n",
       " 83,\n",
       " 85,\n",
       " 87,\n",
       " 89,\n",
       " 91,\n",
       " 93,\n",
       " 95,\n",
       " 97,\n",
       " 99]"
      ]
     },
     "execution_count": 43,
     "metadata": {},
     "output_type": "execute_result"
    }
   ],
   "source": [
    "odd_numbers=[i for i in range(1,101) if i % 2!=0] \n",
    "odd_numbers"
   ]
  },
  {
   "cell_type": "code",
   "execution_count": 42,
   "id": "d08ba734-8acc-45e4-ac94-7a00f426b3f0",
   "metadata": {},
   "outputs": [
    {
     "name": "stdout",
     "output_type": "stream",
     "text": [
      "[1, 3, 5, 7, 9, 11, 13, 15, 17, 19, 21, 23, 25, 27, 29, 31, 33, 35, 37, 39, 41, 43, 45, 47, 49, 51, 53, 55, 57, 59, 61, 63, 65, 67, 69, 71, 73, 75, 77, 79, 81, 83, 85, 87, 89, 91, 93, 95, 97, 99]\n"
     ]
    }
   ],
   "source": [
    "odd_numbers = [i for nu in range(1, 101) if num % 2 != 0]\n",
    "\n",
    "print(odd_numbers)\n"
   ]
  },
  {
   "cell_type": "code",
   "execution_count": null,
   "id": "6487889c-4ed8-45a4-a038-3d47d8fe792a",
   "metadata": {},
   "outputs": [],
   "source": []
  }
 ],
 "metadata": {
  "kernelspec": {
   "display_name": "Python 3 (ipykernel)",
   "language": "python",
   "name": "python3"
  },
  "language_info": {
   "codemirror_mode": {
    "name": "ipython",
    "version": 3
   },
   "file_extension": ".py",
   "mimetype": "text/x-python",
   "name": "python",
   "nbconvert_exporter": "python",
   "pygments_lexer": "ipython3",
   "version": "3.10.8"
  }
 },
 "nbformat": 4,
 "nbformat_minor": 5
}
