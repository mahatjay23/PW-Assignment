{
 "cells": [
  {
   "cell_type": "code",
   "execution_count": 1,
   "id": "3a57f00e-7579-4a2d-8576-d76b0d77d3fc",
   "metadata": {},
   "outputs": [],
   "source": [
    "import pandas as pd"
   ]
  },
  {
   "cell_type": "markdown",
   "id": "e67d8412-6d59-48a7-8cb4-4d824f3ba442",
   "metadata": {},
   "source": [
    "## Q1. Create a Pandas Series that contains the following data: 4, 8, 15, 16, 23, and 42. Then, print the series."
   ]
  },
  {
   "cell_type": "code",
   "execution_count": 2,
   "id": "1c0e503e-03e3-4c03-801b-6e8a4172a38c",
   "metadata": {},
   "outputs": [
    {
     "data": {
      "text/plain": [
       "0     4\n",
       "1     8\n",
       "2    15\n",
       "3    16\n",
       "4    23\n",
       "5    42\n",
       "dtype: int64"
      ]
     },
     "execution_count": 2,
     "metadata": {},
     "output_type": "execute_result"
    }
   ],
   "source": [
    "l=[4,8,15,16,23,42]\n",
    "pd.Series(l)"
   ]
  },
  {
   "cell_type": "markdown",
   "id": "d9c34e36-28f6-47f3-be6a-10f198cd566e",
   "metadata": {},
   "source": [
    "## Q2. Create a variable of list type containing 10 elements in it, and apply pandas.Series function on the\n",
    "variable print it."
   ]
  },
  {
   "cell_type": "code",
   "execution_count": 3,
   "id": "6390651e-0666-4b94-90ee-25b3e0bf0a03",
   "metadata": {},
   "outputs": [
    {
     "data": {
      "text/plain": [
       "0    12\n",
       "1    23\n",
       "2    45\n",
       "3    45\n",
       "4    11\n",
       "5    22\n",
       "6    90\n",
       "7    87\n",
       "8    56\n",
       "9    54\n",
       "dtype: int64"
      ]
     },
     "execution_count": 3,
     "metadata": {},
     "output_type": "execute_result"
    }
   ],
   "source": [
    "var_list=[12,23,45,45,11,22,90,87,56,54]\n",
    "pd.Series(var_list)"
   ]
  },
  {
   "cell_type": "markdown",
   "id": "f7229908-1f2c-4bc0-bd31-bf573edf2142",
   "metadata": {},
   "source": [
    "## Q3. Create a Pandas DataFrame that contains the following data:"
   ]
  },
  {
   "cell_type": "code",
   "execution_count": 4,
   "id": "b4493af3-e22f-4714-8989-97cba47a8482",
   "metadata": {},
   "outputs": [
    {
     "name": "stdout",
     "output_type": "stream",
     "text": [
      "     Name  Age  Gender\n",
      "0   Alice   25  Female\n",
      "1     Bob   30    Male\n",
      "2  Claire   27  Female\n"
     ]
    }
   ],
   "source": [
    "Data={\"Name\":[\"Alice\",\"Bob\",\"Claire\"],\n",
    "      \"Age\":[25,30,27],\n",
    "      \"Gender\":[\"Female\",\"Male\",\"Female\"]\n",
    "     }\n",
    "df=pd.DataFrame(Data)\n",
    "print(df)"
   ]
  },
  {
   "cell_type": "markdown",
   "id": "99d2bd85-4fc7-45f8-8eaa-fed19fd1852a",
   "metadata": {},
   "source": [
    "## Q4. What is ‘DataFrame’ in pandas and how is it different from pandas.series? Explain with an example."
   ]
  },
  {
   "cell_type": "markdown",
   "id": "05edde0d-5732-49c2-96b5-8b1616988516",
   "metadata": {},
   "source": [
    "DataFrame:\n",
    "\n",
    "1. A DataFrame is a 2-dimensional labeled data structure with columns that can be of different types (like a spreadsheet or SQL table).\n",
    "2. It contains multiple rows and columns, and each column in a DataFrame is a Pandas Series.\n",
    "\n",
    "Series:\n",
    "1. A Series is a 1-dimensional array that holds data of any type along with an index.\n",
    "2. It is essentially a single column of a DataFrame."
   ]
  },
  {
   "cell_type": "markdown",
   "id": "1f6ceb85-da49-4fb1-bec1-1d309003ffc0",
   "metadata": {},
   "source": [
    "## Q5. What are some common functions you can use to manipulate data in a Pandas DataFrame? Canyou give an example of when you might use one of these functions?"
   ]
  },
  {
   "cell_type": "markdown",
   "id": "4b92895f-83b5-4bf2-afed-746e35eaf5a5",
   "metadata": {},
   "source": [
    "### Common functions to manipulate data in a Pandas DataFrame include:\n",
    "\n",
    "* head() and tail(): View the first and last n rows.\n",
    "* describe(): Get summary statistics.\n",
    "* groupby(): Group data by a certain column and apply aggregate functions.\n",
    "* apply(): Apply a function to each element of a DataFrame.\n",
    "* drop(): Remove rows or columns.\n",
    "* merge(): Combine DataFrames based on keys.\n",
    "* pivot(): Reshape data (similar to pivot tables in Excel)."
   ]
  },
  {
   "cell_type": "code",
   "execution_count": 5,
   "id": "2a2e0f72-b9c7-4683-ac72-d8b6b295ec01",
   "metadata": {},
   "outputs": [
    {
     "name": "stdout",
     "output_type": "stream",
     "text": [
      "Age\n",
      "25     Alice\n",
      "27    Claire\n",
      "30       Bob\n",
      "Name: Name, dtype: object\n"
     ]
    }
   ],
   "source": [
    "Data={\"Name\":[\"Alice\",\"Bob\",\"Claire\"],\n",
    "      \"Age\":[25,30,27],\n",
    "      \"Gender\":[\"Female\",\"Male\",\"Female\"]\n",
    "     }\n",
    "df=pd.DataFrame(Data)\n",
    "max_age=df.groupby(\"Age\")['Name'].max()\n",
    "print(max_age)"
   ]
  },
  {
   "cell_type": "markdown",
   "id": "8a2a8a7a-4175-4f93-9504-e01c07cb419f",
   "metadata": {},
   "source": [
    "## Q6. Which of the following is mutable in nature Series, DataFrame, Panel?\n",
    "Ans: Both Series and DataFrame are mutable, meaning their values can be changed. Panel, however, has been deprecated in Pandas as of version 1.0.0, so you should use multi-index DataFrames instead."
   ]
  },
  {
   "cell_type": "markdown",
   "id": "07a9975f-c22d-4ea0-a665-f6fdb88b8bc7",
   "metadata": {},
   "source": [
    "## Q7. Create a DataFrame using multiple Series. Explain with an example."
   ]
  },
  {
   "cell_type": "code",
   "execution_count": 6,
   "id": "c37a3711-b036-4d9f-9aa6-cbfca70b7a84",
   "metadata": {},
   "outputs": [
    {
     "name": "stdout",
     "output_type": "stream",
     "text": [
      "     Name  Age  Gender\n",
      "0   Alice   25  Female\n",
      "1     Bob   30    Male\n",
      "2  Claire   27  Female\n"
     ]
    }
   ],
   "source": [
    "name_series = pd.Series(['Alice', 'Bob', 'Claire'])\n",
    "age_series = pd.Series([25, 30, 27])\n",
    "gender_series = pd.Series(['Female', 'Male', 'Female'])\n",
    "df = pd.DataFrame({\n",
    "    'Name': name_series,\n",
    "    'Age': age_series,\n",
    "    'Gender': gender_series\n",
    "})\n",
    "print(df)\n"
   ]
  },
  {
   "cell_type": "code",
   "execution_count": null,
   "id": "04f8e573-e839-4567-8e20-450a514085cb",
   "metadata": {},
   "outputs": [],
   "source": []
  }
 ],
 "metadata": {
  "kernelspec": {
   "display_name": "Python 3 (ipykernel)",
   "language": "python",
   "name": "python3"
  },
  "language_info": {
   "codemirror_mode": {
    "name": "ipython",
    "version": 3
   },
   "file_extension": ".py",
   "mimetype": "text/x-python",
   "name": "python",
   "nbconvert_exporter": "python",
   "pygments_lexer": "ipython3",
   "version": "3.10.8"
  }
 },
 "nbformat": 4,
 "nbformat_minor": 5
}
